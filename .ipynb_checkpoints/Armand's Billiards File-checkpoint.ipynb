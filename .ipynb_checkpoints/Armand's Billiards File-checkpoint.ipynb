{
 "cells": [
  {
   "cell_type": "code",
   "execution_count": 2,
   "metadata": {
    "collapsed": true
   },
   "outputs": [],
   "source": [
    "import numpy as np\n",
    "import scipy.integrate as integrate\n",
    "import matplotlib.pyplot as plt\n",
    "% matplotlib inline"
   ]
  },
  {
   "cell_type": "code",
   "execution_count": 107,
   "metadata": {
    "collapsed": false
   },
   "outputs": [],
   "source": [
    "def BallOnBallCollision(x1,v1,w1,x2,v2,w2,timeStep,Rad,m,mu):\n",
    "    \n",
    "    #x 1 and 2 are entire position vectors, not horizontal location vectors\n",
    "    a = (np.dot(v1,v1)-2*np.dot(v1,v2)+np.dot(v2,v2))\n",
    "    b = (2*np.dot(v1,x1)-2*np.dot(v1,x2)-2*np.dot(v2,x1)+2*np.dot(v2,x2))\n",
    "    c = (np.dot(x1,x1)-2*np.dot(x1,x2)+np.dot(x2,x2)-(2*Rad)**2)\n",
    "    \n",
    "    #time after beginning of timestep\n",
    "    StrikeTime = (- b - np.sqrt(b**2 - 4*a*c))/(2*a)\n",
    "    \n",
    "    #time left in timestep\n",
    "    RemainingTimeInStep = timeStep-StrikeTime\n",
    "    \n",
    "    #center of ball locations at collision\n",
    "    Strikex1 = x1 + v1*StrikeTime\n",
    "    Strikex2 = x2 + v2*StrikeTime\n",
    "    \n",
    "    #unit vector normal to collision plane\n",
    "    n = (Strikex1-Strikex2)/np.sqrt(np.dot((Strikex1-Strikex2),(Strikex1-Strikex2)))\n",
    "   \n",
    "    #normal component of velocities to collision plane\n",
    "    v1normal = np.dot(v1,-n)*(-n)\n",
    "    v2normal = np.dot(v2,n)*(n)\n",
    "    \n",
    "    #tangential component of velocities to collision plane\n",
    "    v1tang = v1 - v1normal\n",
    "    v2tang = v2 - v2normal\n",
    "    \n",
    "    #outgoing linear velocities after collision\n",
    "    Strikev1 = v1tang + v2normal\n",
    "    Strikev2 = v2tang + v1normal\n",
    "    \n",
    "    #radial vector from ball center to strike point\n",
    "    StrikeR1 = Rad*(-n)\n",
    "    StrikeR2 = Rad*n\n",
    "    \n",
    "    #perimiter velocity of ball at strike point\n",
    "    vPerim1 = np.cross(StrikeR1,w1)\n",
    "    vPerim2 = np.cross(StrikeR2,w2)\n",
    "    print vPerim1\n",
    "    print vPerim2\n",
    "    #relative perimiter velocity for ball 1 and ball 2\n",
    "    vPerimRel1 = vPerim1 - vPerim2\n",
    "    vPerimRel2 = vPerim2 - vPerim1\n",
    "    \n",
    "    #change in normal velocity\n",
    "    delVNormal1 = np.sqrt(np.dot(v2normal - v1normal,v2normal - v1normal))\n",
    "    delVNormal2 = np.sqrt(np.dot(v1normal - v2normal, v1normal - v2normal))\n",
    "    #change in angular momentum\n",
    "    #needs fixing\n",
    "    delW1 = (delVNormal2)*(-5*m*mu/(2*m*(Rad**2)))*np.cross(StrikeR1, \n",
    "            (vPerimRel1 + v1tang - v2tang)/np.absolute(np.sqrt(np.dot(vPerimRel1 + \n",
    "            v1tang - v2tang,vPerimRel1 + v1tang - v2tang))))\n",
    "    \n",
    "    delW2 = (delVNormal1)*(-5*m*mu/(2*m*(Rad**2)))*np.cross(StrikeR2, \n",
    "            (vPerimRel2 + v2tang - v1tang)/np.absolute(np.sqrt(np.dot(vPerimRel2 + \n",
    "            v2tang - v1tang,vPerimRel2 + v2tang - v1tang))))\n",
    "    \n",
    "    newW1 = w1 + delW1\n",
    "    newW2 = w2 + delW2\n",
    "    return [StrikeTime,Strikex1,Strikex2,Strikev1,Strikev2,newW1,newW2]\n",
    "\n"
   ]
  },
  {
   "cell_type": "code",
   "execution_count": 114,
   "metadata": {
    "collapsed": false
   },
   "outputs": [
    {
     "name": "stdout",
     "output_type": "stream",
     "text": [
      "[-0.05051159 -0.49744204  0.        ]\n",
      "[ 0.05051159  0.49744204  0.        ]\n",
      "[0.50511592838375352, array([ 2.00511593,  0.10102319,  0.        ]), array([ 3.,  0.,  0.]), array([ 0.03030696,  0.29846522,  0.        ]), array([ 0.96969304, -0.09846522,  0.        ]), array([ 0.        ,  0.        ,  1.48733972]), array([ 0.        ,  0.        ,  1.48733972])]\n"
     ]
    }
   ],
   "source": [
    "d1 = np.asarray([1.5,0,0])\n",
    "d2 = np.asarray([3,0,0])\n",
    "v1 = np.asarray([1,.2,0])\n",
    "v2 = np.asarray([0,0,0])\n",
    "w1 = np.asarray([0,0,1])\n",
    "w2 = np.asarray([0,0,1])\n",
    "dT = 1\n",
    "Rad = .5\n",
    "m = 1\n",
    "mu = .1\n",
    "colData = BallOnBallCollision(d1,v1,w1,d2,v2,w2,dT,Rad,m,mu)\n",
    "print colData"
   ]
  },
  {
   "cell_type": "code",
   "execution_count": null,
   "metadata": {
    "collapsed": true
   },
   "outputs": [],
   "source": []
  }
 ],
 "metadata": {
  "kernelspec": {
   "display_name": "Python 2",
   "language": "python",
   "name": "python2"
  },
  "language_info": {
   "codemirror_mode": {
    "name": "ipython",
    "version": 2
   },
   "file_extension": ".py",
   "mimetype": "text/x-python",
   "name": "python",
   "nbconvert_exporter": "python",
   "pygments_lexer": "ipython2",
   "version": "2.7.10"
  }
 },
 "nbformat": 4,
 "nbformat_minor": 0
}
